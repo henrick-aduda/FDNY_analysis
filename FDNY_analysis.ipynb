{
 "cells": [
  {
   "cell_type": "markdown",
   "id": "de723fec",
   "metadata": {},
   "source": [
    "# FDNY analysis challenge \n",
    "The New York City Fire Department keeps a log of detailed information on incidents handled by FDNY units. In this challenge I worked on a dataset that contains a record of incidents handled by FDNY units from 2013-2019.\n",
    "\n",
    "This challenge was very difficult.... but I learned so much during the process. I expanded my knowledge and skills more than ever. "
   ]
  },
  {
   "cell_type": "code",
   "execution_count": 15,
   "id": "3031ba65",
   "metadata": {},
   "outputs": [],
   "source": [
    "# Import relevant library \n",
    "import pandas as pd\n",
    "# Importing the data into jupyter notebook \n",
    "fdny = pd.read_csv(\"data/Incidents_Responded_to_by_Fire_Companies.csv\", low_memory=False)"
   ]
  },
  {
   "cell_type": "markdown",
   "id": "c70feccb",
   "metadata": {},
   "source": [
    "**What proportion of FDNY responses in this dataset correspond to the most common type of incident?**"
   ]
  },
  {
   "cell_type": "code",
   "execution_count": 17,
   "id": "6eca20ed",
   "metadata": {},
   "outputs": [
    {
     "data": {
      "text/plain": [
       "300 - Rescue, EMS incident, other                          35.988610\n",
       "651 - Smoke scare, odor of smoke                            6.427215\n",
       "353 - Removal of victim(s) from stalled elevator            5.221184\n",
       "710 - Malicious, mischievous false call, other              5.140073\n",
       "522 - Water or steam leak                                   4.872084\n",
       "                                                             ...    \n",
       "170 - Cultivated vegetation, crop fire, other               0.000119\n",
       "121 - Fire in mobile home used as fixed residence           0.000119\n",
       "173 - Cultivated trees or nursery stock fire                0.000079\n",
       "136 - Self-propelled motor home or recreational vehicle     0.000079\n",
       "172 - Cultivated orchard or vineyard fire                   0.000040\n",
       "Name: INCIDENT_TYPE_DESC, Length: 182, dtype: float64"
      ]
     },
     "execution_count": 17,
     "metadata": {},
     "output_type": "execute_result"
    }
   ],
   "source": [
    "# Calculating the proportion of most common type of incident\n",
    "fdny['INCIDENT_TYPE_DESC'].value_counts(normalize=True) * 100"
   ]
  },
  {
   "cell_type": "markdown",
   "id": "273e152b",
   "metadata": {},
   "source": [
    "**How many times more likely is an incident in Staten Island a false call compared to in Manhattan? The answer should be the ratio of Staten Island false call rate to Manhattan false call rate. A false call is an incident for which 'INCIDENT_TYPE_DESC' is '710 - Malicious, mischievous false call, other'.**"
   ]
  },
  {
   "cell_type": "code",
   "execution_count": 18,
   "id": "0590e863",
   "metadata": {},
   "outputs": [
    {
     "data": {
      "text/plain": [
       "4 - Brooklyn         731297\n",
       "1 - Manhattan        641825\n",
       "5 - Queens           509106\n",
       "2 - Bronx            505899\n",
       "3 - Staten Island    130631\n",
       "Name: BOROUGH_DESC, dtype: int64"
      ]
     },
     "execution_count": 18,
     "metadata": {},
     "output_type": "execute_result"
    }
   ],
   "source": [
    "#Checking the borough (town) of incidents\n",
    "fdny.BOROUGH_DESC.value_counts()"
   ]
  },
  {
   "cell_type": "code",
   "execution_count": 59,
   "id": "32a39c7c",
   "metadata": {},
   "outputs": [
    {
     "data": {
      "text/plain": [
       "8989"
      ]
     },
     "execution_count": 59,
     "metadata": {},
     "output_type": "execute_result"
    }
   ],
   "source": [
    "# Subsetting fdny data frame to extract columns with false call + from Staten Island\n",
    "false_call_staten = fdny[(fdny[\"INCIDENT_TYPE_DESC\"]==\"710 - Malicious, mischievous false call, other\") & (fdny[\"BOROUGH_DESC\"]==\"3 - Staten Island\")]\n",
    "#Calculating number of rows with criteria == false call + Staten\n",
    "stat_total_rows = len(false_call_staten)\n",
    "stat_total_rows"
   ]
  },
  {
   "cell_type": "code",
   "execution_count": 64,
   "id": "a8642644",
   "metadata": {},
   "outputs": [
    {
     "data": {
      "text/plain": [
       "27551"
      ]
     },
     "execution_count": 64,
     "metadata": {},
     "output_type": "execute_result"
    }
   ],
   "source": [
    "# Subsetting fdny data frame to extract columns with false call + from Manhattan\n",
    "false_call_manhattan = fdny[(fdny[\"INCIDENT_TYPE_DESC\"]==\"710 - Malicious, mischievous false call, other\") & (fdny[\"BOROUGH_DESC\"]==\"1 - Manhattan\")]\n",
    "#Calculating number of rows with criteria == false call + Manhattan\n",
    "manh_total_rows = len(false_call_manhattan)\n",
    "manh_total_rows"
   ]
  },
  {
   "cell_type": "code",
   "execution_count": 61,
   "id": "15977019",
   "metadata": {},
   "outputs": [],
   "source": [
    "#To calculate ratios you need to divide both sides by the greatest common divisor.\n",
    "# Creating a function for gcd:\n",
    "def gcd(a, b):\n",
    "    \"\"\"Calculate the Greatest Common Divisor of a and b.\n",
    "\n",
    "    Unless b==0, the result will have the same sign as b (so that when\n",
    "    b is divided by it, the result comes out positive).\n",
    "    \"\"\"\n",
    "    while b:\n",
    "        a, b = b, a%b\n",
    "    return a"
   ]
  },
  {
   "cell_type": "code",
   "execution_count": 66,
   "id": "58f84331",
   "metadata": {},
   "outputs": [
    {
     "data": {
      "text/plain": [
       "1"
      ]
     },
     "execution_count": 66,
     "metadata": {},
     "output_type": "execute_result"
    }
   ],
   "source": [
    "# calculating gcd for total number of times false calls are reported in Staten and Manhattan\n",
    "gcd(stat_total_rows,manh_total_rows)\n",
    "# We will try and round off the false call for manhattan and staten to the nearest one thousand "
   ]
  },
  {
   "cell_type": "code",
   "execution_count": 67,
   "id": "98bbfe32",
   "metadata": {},
   "outputs": [],
   "source": [
    "# rounding off to nearest 1000\n",
    "manh_total_rows = round(manh_total_rows, ndigits=-3)\n",
    "stat_total_rows = round(stat_total_rows, ndigits=-3)"
   ]
  },
  {
   "cell_type": "code",
   "execution_count": 68,
   "id": "61dc5c78",
   "metadata": {},
   "outputs": [],
   "source": [
    "# Find greatest commond divisor so as to calculate ratio\n",
    "gcd = gcd(manh_total_rows, stat_total_rows)"
   ]
  },
  {
   "cell_type": "code",
   "execution_count": 69,
   "id": "614ba170",
   "metadata": {},
   "outputs": [
    {
     "data": {
      "text/plain": [
       "1000"
      ]
     },
     "execution_count": 69,
     "metadata": {},
     "output_type": "execute_result"
    }
   ],
   "source": [
    "gcd"
   ]
  },
  {
   "cell_type": "code",
   "execution_count": 70,
   "id": "bc533842",
   "metadata": {},
   "outputs": [
    {
     "name": "stdout",
     "output_type": "stream",
     "text": [
      "Ratio of Staten Island false call rate to Manhattan false call rate is 9.0 : 28.0\n"
     ]
    }
   ],
   "source": [
    "# Divide both sides by GCD if it is not equal to 1, if it is equal to one leave it as it is\n",
    "if gcd == 1:\n",
    "    print(\"Ratio of Staten Island false call rate to Manhattan false call rate is\", stat_total_rows,\":\", manh_total_rows)\n",
    "else: \n",
    "    manh_total_rows = manh_total_rows/gcd\n",
    "    stat_total_rows = stat_total_rows /gcd\n",
    "    print(\"Ratio of Staten Island false call rate to Manhattan false call rate is\", stat_total_rows,\":\", manh_total_rows)"
   ]
  },
  {
   "cell_type": "code",
   "execution_count": 71,
   "id": "3e49bc6c",
   "metadata": {},
   "outputs": [
    {
     "data": {
      "text/plain": [
       "0.32142857142857145"
      ]
     },
     "execution_count": 71,
     "metadata": {},
     "output_type": "execute_result"
    }
   ],
   "source": [
    "# representing ratio as float value\n",
    "stat_total_rows/manh_total_rows"
   ]
  },
  {
   "cell_type": "markdown",
   "id": "176e5eb5",
   "metadata": {},
   "source": [
    "**What is the ratio of the average number of units that arrive to a scene of an incident classified as '111 - Building fire' to the number that arrive for '651 - Smoke scare, odor of smoke'?**"
   ]
  },
  {
   "cell_type": "code",
   "execution_count": 30,
   "id": "d4dc3e90",
   "metadata": {},
   "outputs": [
    {
     "data": {
      "text/html": [
       "<div>\n",
       "<style scoped>\n",
       "    .dataframe tbody tr th:only-of-type {\n",
       "        vertical-align: middle;\n",
       "    }\n",
       "\n",
       "    .dataframe tbody tr th {\n",
       "        vertical-align: top;\n",
       "    }\n",
       "\n",
       "    .dataframe thead th {\n",
       "        text-align: right;\n",
       "    }\n",
       "</style>\n",
       "<table border=\"1\" class=\"dataframe\">\n",
       "  <thead>\n",
       "    <tr style=\"text-align: right;\">\n",
       "      <th></th>\n",
       "      <th>UNITS_ONSCENE</th>\n",
       "      <th>INCIDENT_TYPE_DESC</th>\n",
       "    </tr>\n",
       "  </thead>\n",
       "  <tbody>\n",
       "    <tr>\n",
       "      <th>91</th>\n",
       "      <td>15.0</td>\n",
       "      <td>111 - Building fire</td>\n",
       "    </tr>\n",
       "    <tr>\n",
       "      <th>199</th>\n",
       "      <td>9.0</td>\n",
       "      <td>111 - Building fire</td>\n",
       "    </tr>\n",
       "    <tr>\n",
       "      <th>440</th>\n",
       "      <td>23.0</td>\n",
       "      <td>111 - Building fire</td>\n",
       "    </tr>\n",
       "    <tr>\n",
       "      <th>492</th>\n",
       "      <td>6.0</td>\n",
       "      <td>111 - Building fire</td>\n",
       "    </tr>\n",
       "    <tr>\n",
       "      <th>569</th>\n",
       "      <td>13.0</td>\n",
       "      <td>111 - Building fire</td>\n",
       "    </tr>\n",
       "    <tr>\n",
       "      <th>...</th>\n",
       "      <td>...</td>\n",
       "      <td>...</td>\n",
       "    </tr>\n",
       "    <tr>\n",
       "      <th>2517681</th>\n",
       "      <td>11.0</td>\n",
       "      <td>111 - Building fire</td>\n",
       "    </tr>\n",
       "    <tr>\n",
       "      <th>2517770</th>\n",
       "      <td>13.0</td>\n",
       "      <td>111 - Building fire</td>\n",
       "    </tr>\n",
       "    <tr>\n",
       "      <th>2518063</th>\n",
       "      <td>17.0</td>\n",
       "      <td>111 - Building fire</td>\n",
       "    </tr>\n",
       "    <tr>\n",
       "      <th>2518123</th>\n",
       "      <td>17.0</td>\n",
       "      <td>111 - Building fire</td>\n",
       "    </tr>\n",
       "    <tr>\n",
       "      <th>2518263</th>\n",
       "      <td>7.0</td>\n",
       "      <td>111 - Building fire</td>\n",
       "    </tr>\n",
       "  </tbody>\n",
       "</table>\n",
       "<p>14202 rows × 2 columns</p>\n",
       "</div>"
      ],
      "text/plain": [
       "         UNITS_ONSCENE   INCIDENT_TYPE_DESC\n",
       "91                15.0  111 - Building fire\n",
       "199                9.0  111 - Building fire\n",
       "440               23.0  111 - Building fire\n",
       "492                6.0  111 - Building fire\n",
       "569               13.0  111 - Building fire\n",
       "...                ...                  ...\n",
       "2517681           11.0  111 - Building fire\n",
       "2517770           13.0  111 - Building fire\n",
       "2518063           17.0  111 - Building fire\n",
       "2518123           17.0  111 - Building fire\n",
       "2518263            7.0  111 - Building fire\n",
       "\n",
       "[14202 rows x 2 columns]"
      ]
     },
     "execution_count": 30,
     "metadata": {},
     "output_type": "execute_result"
    }
   ],
   "source": [
    "# Subsetting fdny data frame to select incidents reported as \"111 - Building fire\" and the the total units that arrived at scene each time\n",
    "building_fire = fdny.loc[fdny.INCIDENT_TYPE_DESC == \"111 - Building fire\", [\"UNITS_ONSCENE\",\"INCIDENT_TYPE_DESC\"]]\n",
    "building_fire"
   ]
  },
  {
   "cell_type": "code",
   "execution_count": 31,
   "id": "99bdeb97",
   "metadata": {},
   "outputs": [
    {
     "data": {
      "text/plain": [
       "11.220102505694761"
      ]
     },
     "execution_count": 31,
     "metadata": {},
     "output_type": "execute_result"
    }
   ],
   "source": [
    "# Calculating the average number of units that arrive at a scene classified as '111 - Building fire'\n",
    "building_fire.UNITS_ONSCENE.mean()"
   ]
  },
  {
   "cell_type": "code",
   "execution_count": 43,
   "id": "06dd29ab",
   "metadata": {},
   "outputs": [],
   "source": [
    "# Saving mean of average units on scene classified as building fire to a variable \n",
    "building_fire_mean = round(building_fire.UNITS_ONSCENE.mean())"
   ]
  },
  {
   "cell_type": "code",
   "execution_count": 33,
   "id": "d500eb00",
   "metadata": {},
   "outputs": [
    {
     "data": {
      "text/html": [
       "<div>\n",
       "<style scoped>\n",
       "    .dataframe tbody tr th:only-of-type {\n",
       "        vertical-align: middle;\n",
       "    }\n",
       "\n",
       "    .dataframe tbody tr th {\n",
       "        vertical-align: top;\n",
       "    }\n",
       "\n",
       "    .dataframe thead th {\n",
       "        text-align: right;\n",
       "    }\n",
       "</style>\n",
       "<table border=\"1\" class=\"dataframe\">\n",
       "  <thead>\n",
       "    <tr style=\"text-align: right;\">\n",
       "      <th></th>\n",
       "      <th>UNITS_ONSCENE</th>\n",
       "      <th>INCIDENT_TYPE_DESC</th>\n",
       "    </tr>\n",
       "  </thead>\n",
       "  <tbody>\n",
       "    <tr>\n",
       "      <th>7</th>\n",
       "      <td>4.0</td>\n",
       "      <td>651 - Smoke scare, odor of smoke</td>\n",
       "    </tr>\n",
       "    <tr>\n",
       "      <th>17</th>\n",
       "      <td>6.0</td>\n",
       "      <td>651 - Smoke scare, odor of smoke</td>\n",
       "    </tr>\n",
       "    <tr>\n",
       "      <th>19</th>\n",
       "      <td>5.0</td>\n",
       "      <td>651 - Smoke scare, odor of smoke</td>\n",
       "    </tr>\n",
       "    <tr>\n",
       "      <th>22</th>\n",
       "      <td>6.0</td>\n",
       "      <td>651 - Smoke scare, odor of smoke</td>\n",
       "    </tr>\n",
       "    <tr>\n",
       "      <th>37</th>\n",
       "      <td>6.0</td>\n",
       "      <td>651 - Smoke scare, odor of smoke</td>\n",
       "    </tr>\n",
       "    <tr>\n",
       "      <th>...</th>\n",
       "      <td>...</td>\n",
       "      <td>...</td>\n",
       "    </tr>\n",
       "    <tr>\n",
       "      <th>2518563</th>\n",
       "      <td>5.0</td>\n",
       "      <td>651 - Smoke scare, odor of smoke</td>\n",
       "    </tr>\n",
       "    <tr>\n",
       "      <th>2518606</th>\n",
       "      <td>1.0</td>\n",
       "      <td>651 - Smoke scare, odor of smoke</td>\n",
       "    </tr>\n",
       "    <tr>\n",
       "      <th>2518615</th>\n",
       "      <td>6.0</td>\n",
       "      <td>651 - Smoke scare, odor of smoke</td>\n",
       "    </tr>\n",
       "    <tr>\n",
       "      <th>2518631</th>\n",
       "      <td>6.0</td>\n",
       "      <td>651 - Smoke scare, odor of smoke</td>\n",
       "    </tr>\n",
       "    <tr>\n",
       "      <th>2518754</th>\n",
       "      <td>3.0</td>\n",
       "      <td>651 - Smoke scare, odor of smoke</td>\n",
       "    </tr>\n",
       "  </tbody>\n",
       "</table>\n",
       "<p>161886 rows × 2 columns</p>\n",
       "</div>"
      ],
      "text/plain": [
       "         UNITS_ONSCENE                INCIDENT_TYPE_DESC\n",
       "7                  4.0  651 - Smoke scare, odor of smoke\n",
       "17                 6.0  651 - Smoke scare, odor of smoke\n",
       "19                 5.0  651 - Smoke scare, odor of smoke\n",
       "22                 6.0  651 - Smoke scare, odor of smoke\n",
       "37                 6.0  651 - Smoke scare, odor of smoke\n",
       "...                ...                               ...\n",
       "2518563            5.0  651 - Smoke scare, odor of smoke\n",
       "2518606            1.0  651 - Smoke scare, odor of smoke\n",
       "2518615            6.0  651 - Smoke scare, odor of smoke\n",
       "2518631            6.0  651 - Smoke scare, odor of smoke\n",
       "2518754            3.0  651 - Smoke scare, odor of smoke\n",
       "\n",
       "[161886 rows x 2 columns]"
      ]
     },
     "execution_count": 33,
     "metadata": {},
     "output_type": "execute_result"
    }
   ],
   "source": [
    "# Subsetting fdny data frame to select incidents reported as \"651 - Smoke scare, odor of \n",
    "#smoke\" and the total units that arrived at scene each time\n",
    "smoke_scare = fdny.loc[fdny.INCIDENT_TYPE_DESC == \"651 - Smoke scare, odor of smoke\", [\"UNITS_ONSCENE\",\"INCIDENT_TYPE_DESC\"]]\n",
    "smoke_scare"
   ]
  },
  {
   "cell_type": "code",
   "execution_count": 34,
   "id": "38b5e7e7",
   "metadata": {},
   "outputs": [
    {
     "data": {
      "text/plain": [
       "4.005524003628817"
      ]
     },
     "execution_count": 34,
     "metadata": {},
     "output_type": "execute_result"
    }
   ],
   "source": [
    "smoke_scare.UNITS_ONSCENE.mean()"
   ]
  },
  {
   "cell_type": "code",
   "execution_count": 45,
   "id": "5ce0d111",
   "metadata": {},
   "outputs": [],
   "source": [
    "# Saving mean of average units on scene classified as smoke scare to a variable \n",
    "smoke_scare_mean = round(smoke_scare.UNITS_ONSCENE.mean())"
   ]
  },
  {
   "cell_type": "code",
   "execution_count": 52,
   "id": "7554de4a",
   "metadata": {},
   "outputs": [],
   "source": [
    "gcd = gcd(building_fire_mean,smoke_scare_mean)"
   ]
  },
  {
   "cell_type": "code",
   "execution_count": 53,
   "id": "8d5d0a59",
   "metadata": {},
   "outputs": [
    {
     "name": "stdout",
     "output_type": "stream",
     "text": [
      "Ratio of average units on scene classified as Building fire to Smoke scare is 11 : 4\n"
     ]
    }
   ],
   "source": [
    "# Checkpoint for gcd\n",
    "# Divide both sides by GCD if it is not equal to 1, if it is equal to one leave it as it is\n",
    "if gcd == 1:\n",
    "    print(\"Ratio of average units on scene classified as Building fire to Smoke scare is\", building_fire_mean,\":\", smoke_scare_mean)\n",
    "else: \n",
    "    building_fire_mean = building_fire_mean/gcd\n",
    "    smoke_scare_mean = smoke_scare_mean /gcd\n",
    "    print(\"Ratio of average units on scene classified as Building fire to Smoke scare is\", building_fire_mean,\":\", smoke_scare_mean)"
   ]
  },
  {
   "cell_type": "code",
   "execution_count": 56,
   "id": "3e10139a",
   "metadata": {},
   "outputs": [
    {
     "data": {
      "text/plain": [
       "2.75"
      ]
     },
     "execution_count": 56,
     "metadata": {},
     "output_type": "execute_result"
    }
   ],
   "source": [
    "# representing ratio as a float value\n",
    "building_fire_mean/smoke_scare_mean"
   ]
  },
  {
   "cell_type": "markdown",
   "id": "fdef2852",
   "metadata": {},
   "source": [
    "**Check the distribution of the number of minutes it takes between the time a '111 - Building fire' incident has been logged into the Computer Aided Dispatch system and the time at which the first unit arrives on scene. What is the third quartile of that distribution. Note: the number of minutes can be fractional (ie, do not round).**"
   ]
  },
  {
   "cell_type": "code",
   "execution_count": 115,
   "id": "bcc402f4",
   "metadata": {},
   "outputs": [],
   "source": [
    "# Converting to time data\n",
    "fdny[\"ARRIVAL_DATE_TIME\"] = pd.to_datetime(fdny[\"ARRIVAL_DATE_TIME\"])"
   ]
  },
  {
   "cell_type": "code",
   "execution_count": 116,
   "id": "33f1d8fe",
   "metadata": {},
   "outputs": [],
   "source": [
    "# Converting to time data\n",
    "fdny[\"INCIDENT_DATE_TIME\"] = pd.to_datetime(fdny[\"INCIDENT_DATE_TIME\"])"
   ]
  },
  {
   "cell_type": "code",
   "execution_count": 121,
   "id": "689aa458",
   "metadata": {},
   "outputs": [],
   "source": [
    "# subsetting data frame to extract columns with incident as building and also extracting arrival time and incident time\n",
    "time_stamp = fdny.loc[fdny.INCIDENT_TYPE_DESC == \"111 - Building fire\", [\"ARRIVAL_DATE_TIME\",\"INCIDENT_TYPE_DESC\",\"INCIDENT_DATE_TIME\"]]"
   ]
  },
  {
   "cell_type": "code",
   "execution_count": 136,
   "id": "c43553df",
   "metadata": {},
   "outputs": [
    {
     "data": {
      "text/html": [
       "<div>\n",
       "<style scoped>\n",
       "    .dataframe tbody tr th:only-of-type {\n",
       "        vertical-align: middle;\n",
       "    }\n",
       "\n",
       "    .dataframe tbody tr th {\n",
       "        vertical-align: top;\n",
       "    }\n",
       "\n",
       "    .dataframe thead th {\n",
       "        text-align: right;\n",
       "    }\n",
       "</style>\n",
       "<table border=\"1\" class=\"dataframe\">\n",
       "  <thead>\n",
       "    <tr style=\"text-align: right;\">\n",
       "      <th></th>\n",
       "      <th>ARRIVAL_DATE_TIME</th>\n",
       "      <th>INCIDENT_TYPE_DESC</th>\n",
       "      <th>INCIDENT_DATE_TIME</th>\n",
       "      <th>Duration</th>\n",
       "    </tr>\n",
       "  </thead>\n",
       "  <tbody>\n",
       "    <tr>\n",
       "      <th>91</th>\n",
       "      <td>2013-01-01 01:00:50</td>\n",
       "      <td>111 - Building fire</td>\n",
       "      <td>2013-01-01 00:58:10</td>\n",
       "      <td>0 days 00:02:40</td>\n",
       "    </tr>\n",
       "    <tr>\n",
       "      <th>199</th>\n",
       "      <td>2013-01-01 02:25:23</td>\n",
       "      <td>111 - Building fire</td>\n",
       "      <td>2013-01-01 02:22:56</td>\n",
       "      <td>0 days 00:02:27</td>\n",
       "    </tr>\n",
       "    <tr>\n",
       "      <th>440</th>\n",
       "      <td>2013-01-01 06:26:13</td>\n",
       "      <td>111 - Building fire</td>\n",
       "      <td>2013-01-01 06:20:49</td>\n",
       "      <td>0 days 00:05:24</td>\n",
       "    </tr>\n",
       "    <tr>\n",
       "      <th>492</th>\n",
       "      <td>2013-01-01 08:03:33</td>\n",
       "      <td>111 - Building fire</td>\n",
       "      <td>2013-01-01 07:59:48</td>\n",
       "      <td>0 days 00:03:45</td>\n",
       "    </tr>\n",
       "    <tr>\n",
       "      <th>569</th>\n",
       "      <td>2013-01-01 09:49:25</td>\n",
       "      <td>111 - Building fire</td>\n",
       "      <td>2013-01-01 09:47:27</td>\n",
       "      <td>0 days 00:01:58</td>\n",
       "    </tr>\n",
       "  </tbody>\n",
       "</table>\n",
       "</div>"
      ],
      "text/plain": [
       "      ARRIVAL_DATE_TIME   INCIDENT_TYPE_DESC  INCIDENT_DATE_TIME  \\\n",
       "91  2013-01-01 01:00:50  111 - Building fire 2013-01-01 00:58:10   \n",
       "199 2013-01-01 02:25:23  111 - Building fire 2013-01-01 02:22:56   \n",
       "440 2013-01-01 06:26:13  111 - Building fire 2013-01-01 06:20:49   \n",
       "492 2013-01-01 08:03:33  111 - Building fire 2013-01-01 07:59:48   \n",
       "569 2013-01-01 09:49:25  111 - Building fire 2013-01-01 09:47:27   \n",
       "\n",
       "           Duration  \n",
       "91  0 days 00:02:40  \n",
       "199 0 days 00:02:27  \n",
       "440 0 days 00:05:24  \n",
       "492 0 days 00:03:45  \n",
       "569 0 days 00:01:58  "
      ]
     },
     "execution_count": 136,
     "metadata": {},
     "output_type": "execute_result"
    }
   ],
   "source": [
    "# Checking dataframe\n",
    "time_stamp.head()"
   ]
  },
  {
   "cell_type": "code",
   "execution_count": 128,
   "id": "f1bcfce1",
   "metadata": {},
   "outputs": [],
   "source": [
    "# Calculating duration (difference in time between arrival time of units and incident time as per computer aided system)\n",
    "# Creating a new column for it called duration\n",
    "time_stamp[\"Duration\"]= time_stamp.ARRIVAL_DATE_TIME - time_stamp.INCIDENT_DATE_TIME"
   ]
  },
  {
   "cell_type": "code",
   "execution_count": 135,
   "id": "7a94e7db",
   "metadata": {},
   "outputs": [
    {
     "data": {
      "text/plain": [
       "0.75   0 days 00:04:10\n",
       "Name: Duration, dtype: timedelta64[ns]"
      ]
     },
     "execution_count": 135,
     "metadata": {},
     "output_type": "execute_result"
    }
   ],
   "source": [
    "# Calculating the 3rd quantile of distribution of duration \n",
    "time_stamp.Duration.quantile(q=[0.75])"
   ]
  },
  {
   "cell_type": "markdown",
   "id": "4871c655",
   "metadata": {},
   "source": [
    "**What is the coefficient of determination (R squared) between the number of residents at each ZIP code and the number of inicidents whose type is classified as '111 - Building fire' at each of those zip codes. Note: the population for each ZIP code in New York state can be found here. Ignore ZIP codes that do not appear on the website.**"
   ]
  },
  {
   "cell_type": "code",
   "execution_count": 803,
   "id": "ca2a09a6",
   "metadata": {},
   "outputs": [],
   "source": [
    "# Getting Zip code data for New York state.\n",
    "# Copy pasted data from url: \"https://www.newyork-demographics.com/zip_codes_by_population\" into csv file\n",
    "# importing csv file with zip code information in New York state\n",
    "zip_code_ny = pd.read_csv(\"data/new_york_zip_codes.csv\", low_memory=False)"
   ]
  },
  {
   "cell_type": "code",
   "execution_count": 878,
   "id": "de582c94",
   "metadata": {},
   "outputs": [
    {
     "data": {
      "text/html": [
       "<div>\n",
       "<style scoped>\n",
       "    .dataframe tbody tr th:only-of-type {\n",
       "        vertical-align: middle;\n",
       "    }\n",
       "\n",
       "    .dataframe tbody tr th {\n",
       "        vertical-align: top;\n",
       "    }\n",
       "\n",
       "    .dataframe thead th {\n",
       "        text-align: right;\n",
       "    }\n",
       "</style>\n",
       "<table border=\"1\" class=\"dataframe\">\n",
       "  <thead>\n",
       "    <tr style=\"text-align: right;\">\n",
       "      <th></th>\n",
       "      <th>Rank</th>\n",
       "      <th>ZIP_CODE</th>\n",
       "      <th>Population</th>\n",
       "    </tr>\n",
       "  </thead>\n",
       "  <tbody>\n",
       "    <tr>\n",
       "      <th>0</th>\n",
       "      <td>1</td>\n",
       "      <td>11368</td>\n",
       "      <td>112,088</td>\n",
       "    </tr>\n",
       "    <tr>\n",
       "      <th>1</th>\n",
       "      <td>2</td>\n",
       "      <td>11385</td>\n",
       "      <td>107,796</td>\n",
       "    </tr>\n",
       "    <tr>\n",
       "      <th>2</th>\n",
       "      <td>3</td>\n",
       "      <td>11211</td>\n",
       "      <td>103,123</td>\n",
       "    </tr>\n",
       "    <tr>\n",
       "      <th>3</th>\n",
       "      <td>4</td>\n",
       "      <td>11208</td>\n",
       "      <td>101,313</td>\n",
       "    </tr>\n",
       "    <tr>\n",
       "      <th>4</th>\n",
       "      <td>5</td>\n",
       "      <td>10467</td>\n",
       "      <td>101,255</td>\n",
       "    </tr>\n",
       "    <tr>\n",
       "      <th>...</th>\n",
       "      <td>...</td>\n",
       "      <td>...</td>\n",
       "      <td>...</td>\n",
       "    </tr>\n",
       "    <tr>\n",
       "      <th>1579</th>\n",
       "      <td>1,580</td>\n",
       "      <td>13826</td>\n",
       "      <td>15</td>\n",
       "    </tr>\n",
       "    <tr>\n",
       "      <th>1580</th>\n",
       "      <td>1,581</td>\n",
       "      <td>13353</td>\n",
       "      <td>13</td>\n",
       "    </tr>\n",
       "    <tr>\n",
       "      <th>1581</th>\n",
       "      <td>1,582</td>\n",
       "      <td>14854</td>\n",
       "      <td>12</td>\n",
       "    </tr>\n",
       "    <tr>\n",
       "      <th>1582</th>\n",
       "      <td>1,583</td>\n",
       "      <td>13352</td>\n",
       "      <td>11</td>\n",
       "    </tr>\n",
       "    <tr>\n",
       "      <th>1583</th>\n",
       "      <td>1,584</td>\n",
       "      <td>12007</td>\n",
       "      <td>9</td>\n",
       "    </tr>\n",
       "  </tbody>\n",
       "</table>\n",
       "<p>1584 rows × 3 columns</p>\n",
       "</div>"
      ],
      "text/plain": [
       "       Rank ZIP_CODE Population\n",
       "0         1    11368    112,088\n",
       "1         2    11385    107,796\n",
       "2         3    11211    103,123\n",
       "3         4    11208    101,313\n",
       "4         5    10467    101,255\n",
       "...     ...      ...        ...\n",
       "1579  1,580    13826         15\n",
       "1580  1,581    13353         13\n",
       "1581  1,582    14854         12\n",
       "1582  1,583    13352         11\n",
       "1583  1,584    12007          9\n",
       "\n",
       "[1584 rows x 3 columns]"
      ]
     },
     "execution_count": 878,
     "metadata": {},
     "output_type": "execute_result"
    }
   ],
   "source": [
    "# Renaming colum zip code for easier downstream analysis\n",
    "zip_code_ny_clean = zip_code_ny.rename(columns={'Zip Code': 'ZIP_CODE'})\n",
    "zip_code_ny_clean"
   ]
  },
  {
   "cell_type": "code",
   "execution_count": 805,
   "id": "00ed8d77",
   "metadata": {},
   "outputs": [],
   "source": [
    "# subsetting data frame to extract columns with incident as building fire plus zip code\n",
    "fdny_zip_code = fdny.loc[fdny.INCIDENT_TYPE_DESC == \"111 - Building fire\", [\"INCIDENT_TYPE_DESC\",\"ZIP_CODE\"]]"
   ]
  },
  {
   "cell_type": "code",
   "execution_count": 806,
   "id": "c616b3f2",
   "metadata": {},
   "outputs": [
    {
     "data": {
      "text/html": [
       "<div>\n",
       "<style scoped>\n",
       "    .dataframe tbody tr th:only-of-type {\n",
       "        vertical-align: middle;\n",
       "    }\n",
       "\n",
       "    .dataframe tbody tr th {\n",
       "        vertical-align: top;\n",
       "    }\n",
       "\n",
       "    .dataframe thead th {\n",
       "        text-align: right;\n",
       "    }\n",
       "</style>\n",
       "<table border=\"1\" class=\"dataframe\">\n",
       "  <thead>\n",
       "    <tr style=\"text-align: right;\">\n",
       "      <th></th>\n",
       "      <th>INCIDENT_TYPE_DESC</th>\n",
       "      <th>ZIP_CODE</th>\n",
       "    </tr>\n",
       "  </thead>\n",
       "  <tbody>\n",
       "    <tr>\n",
       "      <th>91</th>\n",
       "      <td>111 - Building fire</td>\n",
       "      <td>11219</td>\n",
       "    </tr>\n",
       "    <tr>\n",
       "      <th>199</th>\n",
       "      <td>111 - Building fire</td>\n",
       "      <td>10456</td>\n",
       "    </tr>\n",
       "    <tr>\n",
       "      <th>440</th>\n",
       "      <td>111 - Building fire</td>\n",
       "      <td>10030</td>\n",
       "    </tr>\n",
       "    <tr>\n",
       "      <th>492</th>\n",
       "      <td>111 - Building fire</td>\n",
       "      <td>11373</td>\n",
       "    </tr>\n",
       "    <tr>\n",
       "      <th>569</th>\n",
       "      <td>111 - Building fire</td>\n",
       "      <td>11207</td>\n",
       "    </tr>\n",
       "    <tr>\n",
       "      <th>...</th>\n",
       "      <td>...</td>\n",
       "      <td>...</td>\n",
       "    </tr>\n",
       "    <tr>\n",
       "      <th>2517681</th>\n",
       "      <td>111 - Building fire</td>\n",
       "      <td>11228</td>\n",
       "    </tr>\n",
       "    <tr>\n",
       "      <th>2517770</th>\n",
       "      <td>111 - Building fire</td>\n",
       "      <td>11236</td>\n",
       "    </tr>\n",
       "    <tr>\n",
       "      <th>2518063</th>\n",
       "      <td>111 - Building fire</td>\n",
       "      <td>10473</td>\n",
       "    </tr>\n",
       "    <tr>\n",
       "      <th>2518123</th>\n",
       "      <td>111 - Building fire</td>\n",
       "      <td>10016</td>\n",
       "    </tr>\n",
       "    <tr>\n",
       "      <th>2518263</th>\n",
       "      <td>111 - Building fire</td>\n",
       "      <td>10017</td>\n",
       "    </tr>\n",
       "  </tbody>\n",
       "</table>\n",
       "<p>14202 rows × 2 columns</p>\n",
       "</div>"
      ],
      "text/plain": [
       "          INCIDENT_TYPE_DESC ZIP_CODE\n",
       "91       111 - Building fire    11219\n",
       "199      111 - Building fire    10456\n",
       "440      111 - Building fire    10030\n",
       "492      111 - Building fire    11373\n",
       "569      111 - Building fire    11207\n",
       "...                      ...      ...\n",
       "2517681  111 - Building fire    11228\n",
       "2517770  111 - Building fire    11236\n",
       "2518063  111 - Building fire    10473\n",
       "2518123  111 - Building fire    10016\n",
       "2518263  111 - Building fire    10017\n",
       "\n",
       "[14202 rows x 2 columns]"
      ]
     },
     "execution_count": 806,
     "metadata": {},
     "output_type": "execute_result"
    }
   ],
   "source": [
    "# Check subsetted dataframe\n",
    "fdny_zip_code"
   ]
  },
  {
   "cell_type": "code",
   "execution_count": 886,
   "id": "4444f9ab",
   "metadata": {},
   "outputs": [],
   "source": [
    "# Checking zip code from fdny_zip_code and zip_code_ny_clean \n",
    "# Then merging the two data sets only if the columns have similar zip codes. option Inner looks at codes that are similar and combines\n",
    "merged_zip_data = pd.merge(fdny_zip_code, zip_code_ny_clean, on=['ZIP_CODE'], how='inner')"
   ]
  },
  {
   "cell_type": "code",
   "execution_count": 808,
   "id": "3764902b",
   "metadata": {},
   "outputs": [
    {
     "data": {
      "text/html": [
       "<div>\n",
       "<style scoped>\n",
       "    .dataframe tbody tr th:only-of-type {\n",
       "        vertical-align: middle;\n",
       "    }\n",
       "\n",
       "    .dataframe tbody tr th {\n",
       "        vertical-align: top;\n",
       "    }\n",
       "\n",
       "    .dataframe thead th {\n",
       "        text-align: right;\n",
       "    }\n",
       "</style>\n",
       "<table border=\"1\" class=\"dataframe\">\n",
       "  <thead>\n",
       "    <tr style=\"text-align: right;\">\n",
       "      <th></th>\n",
       "      <th>INCIDENT_TYPE_DESC</th>\n",
       "      <th>ZIP_CODE</th>\n",
       "      <th>Rank</th>\n",
       "      <th>Population</th>\n",
       "    </tr>\n",
       "  </thead>\n",
       "  <tbody>\n",
       "    <tr>\n",
       "      <th>0</th>\n",
       "      <td>111 - Building fire</td>\n",
       "      <td>11219</td>\n",
       "      <td>16</td>\n",
       "      <td>89,371</td>\n",
       "    </tr>\n",
       "    <tr>\n",
       "      <th>1</th>\n",
       "      <td>111 - Building fire</td>\n",
       "      <td>11219</td>\n",
       "      <td>16</td>\n",
       "      <td>89,371</td>\n",
       "    </tr>\n",
       "    <tr>\n",
       "      <th>2</th>\n",
       "      <td>111 - Building fire</td>\n",
       "      <td>11219</td>\n",
       "      <td>16</td>\n",
       "      <td>89,371</td>\n",
       "    </tr>\n",
       "    <tr>\n",
       "      <th>3</th>\n",
       "      <td>111 - Building fire</td>\n",
       "      <td>11219</td>\n",
       "      <td>16</td>\n",
       "      <td>89,371</td>\n",
       "    </tr>\n",
       "    <tr>\n",
       "      <th>4</th>\n",
       "      <td>111 - Building fire</td>\n",
       "      <td>11219</td>\n",
       "      <td>16</td>\n",
       "      <td>89,371</td>\n",
       "    </tr>\n",
       "  </tbody>\n",
       "</table>\n",
       "</div>"
      ],
      "text/plain": [
       "    INCIDENT_TYPE_DESC ZIP_CODE Rank Population\n",
       "0  111 - Building fire    11219   16     89,371\n",
       "1  111 - Building fire    11219   16     89,371\n",
       "2  111 - Building fire    11219   16     89,371\n",
       "3  111 - Building fire    11219   16     89,371\n",
       "4  111 - Building fire    11219   16     89,371"
      ]
     },
     "execution_count": 808,
     "metadata": {},
     "output_type": "execute_result"
    }
   ],
   "source": [
    "# Checking data\n",
    "merged_zip_data.head()"
   ]
  },
  {
   "cell_type": "code",
   "execution_count": 809,
   "id": "a501608f",
   "metadata": {},
   "outputs": [
    {
     "data": {
      "text/html": [
       "<div>\n",
       "<style scoped>\n",
       "    .dataframe tbody tr th:only-of-type {\n",
       "        vertical-align: middle;\n",
       "    }\n",
       "\n",
       "    .dataframe tbody tr th {\n",
       "        vertical-align: top;\n",
       "    }\n",
       "\n",
       "    .dataframe thead th {\n",
       "        text-align: right;\n",
       "    }\n",
       "</style>\n",
       "<table border=\"1\" class=\"dataframe\">\n",
       "  <thead>\n",
       "    <tr style=\"text-align: right;\">\n",
       "      <th></th>\n",
       "      <th>INCIDENT_TYPE_DESC</th>\n",
       "      <th>ZIP_CODE</th>\n",
       "      <th>Rank</th>\n",
       "      <th>Population</th>\n",
       "    </tr>\n",
       "  </thead>\n",
       "  <tbody>\n",
       "    <tr>\n",
       "      <th>count</th>\n",
       "      <td>14055</td>\n",
       "      <td>14055</td>\n",
       "      <td>14055</td>\n",
       "      <td>14055</td>\n",
       "    </tr>\n",
       "    <tr>\n",
       "      <th>unique</th>\n",
       "      <td>1</td>\n",
       "      <td>171</td>\n",
       "      <td>171</td>\n",
       "      <td>171</td>\n",
       "    </tr>\n",
       "    <tr>\n",
       "      <th>top</th>\n",
       "      <td>111 - Building fire</td>\n",
       "      <td>11207</td>\n",
       "      <td>14</td>\n",
       "      <td>91,083</td>\n",
       "    </tr>\n",
       "    <tr>\n",
       "      <th>freq</th>\n",
       "      <td>14055</td>\n",
       "      <td>234</td>\n",
       "      <td>234</td>\n",
       "      <td>234</td>\n",
       "    </tr>\n",
       "  </tbody>\n",
       "</table>\n",
       "</div>"
      ],
      "text/plain": [
       "         INCIDENT_TYPE_DESC ZIP_CODE   Rank Population\n",
       "count                 14055    14055  14055      14055\n",
       "unique                    1      171    171        171\n",
       "top     111 - Building fire    11207     14     91,083\n",
       "freq                  14055      234    234        234"
      ]
     },
     "execution_count": 809,
     "metadata": {},
     "output_type": "execute_result"
    }
   ],
   "source": [
    "# Checking brief statisitics of dataframe\n",
    "merged_zip_data.describe()"
   ]
  },
  {
   "cell_type": "code",
   "execution_count": 903,
   "id": "dd8296fd",
   "metadata": {},
   "outputs": [
    {
     "name": "stdout",
     "output_type": "stream",
     "text": [
      "<class 'pandas.core.frame.DataFrame'>\n",
      "Int64Index: 14055 entries, 0 to 14054\n",
      "Data columns (total 4 columns):\n",
      " #   Column              Non-Null Count  Dtype \n",
      "---  ------              --------------  ----- \n",
      " 0   INCIDENT_TYPE_DESC  14055 non-null  object\n",
      " 1   ZIP_CODE            14055 non-null  object\n",
      " 2   Rank                14055 non-null  object\n",
      " 3   Population          14055 non-null  object\n",
      "dtypes: object(4)\n",
      "memory usage: 549.0+ KB\n"
     ]
    }
   ],
   "source": [
    "# Check summary statistic information of dataframe (checks null data and data types)\n",
    "merged_zip_data.info()"
   ]
  },
  {
   "cell_type": "code",
   "execution_count": 956,
   "id": "389664ca",
   "metadata": {},
   "outputs": [
    {
     "name": "stdout",
     "output_type": "stream",
     "text": [
      "(171,)\n"
     ]
    }
   ],
   "source": [
    "# In order to calculate co-efficient of determination using sklearn I have to have two values:\n",
    "# y true - which is considered as the ground truth (correct values)\n",
    "# y pred which is considered as the estimated target value.\n",
    "# In this case I considered the population values as per criteria mentioned in the question\n",
    "# Counting Population values as per criteria\n",
    "value_counts_pop = merged_zip_data['Population'].value_counts()\n",
    "# converting to dataframe and assigning new names to the columns\n",
    "df_value_counts = pd.DataFrame(value_counts_pop)\n",
    "df_value_counts = df_value_counts.reset_index() # resetting index\n",
    "df_value_counts.columns = ['unique_values', 'Population_count'] # change column names\n",
    "# convert to numpy array for easy downstream analysis\n",
    "arr_1 = df_value_counts.unique_values.to_numpy()\n",
    "# Checking shape of numpy array\n",
    "print(arr_1.shape)# This will be our y true (ground truth)"
   ]
  },
  {
   "cell_type": "code",
   "execution_count": 957,
   "id": "a19543bb",
   "metadata": {},
   "outputs": [
    {
     "name": "stdout",
     "output_type": "stream",
     "text": [
      "(171,)\n"
     ]
    }
   ],
   "source": [
    "# Calculating y pred \n",
    "# Y pred in this case is the the number of inicidents whose type is classified \n",
    "#as '111 - Building fire' at each zip code (appearing in NY zip code webpage)\n",
    "# Counting the zip codes as per criteria in the question\n",
    "value_counts_zip = merged_zip_data['ZIP_CODE'].value_counts()\n",
    "# converting to df and assigning new names to the columns\n",
    "df_value_counts = pd.DataFrame(value_counts_zip)\n",
    "df_value_counts = df_value_counts.reset_index() #resetting index\n",
    "df_value_counts.columns = ['unique_values', 'ZIP_CODE_count'] # change column names\n",
    "# Convert to numpy array for easy downstream analysis\n",
    "arr_2 = df_value_counts.ZIP_CODE_count.to_numpy()\n",
    "# Checking the shape of numpy array\n",
    "print(arr_2.shape) # this will our y_pred (estimated target value)"
   ]
  },
  {
   "cell_type": "code",
   "execution_count": 963,
   "id": "c3d87f29",
   "metadata": {},
   "outputs": [
    {
     "name": "stdout",
     "output_type": "stream",
     "text": [
      "The co-efficient of determination is -3.3905284065911756\n"
     ]
    }
   ],
   "source": [
    "# Importing relevant library\n",
    "from sklearn.metrics import r2_score\n",
    "### Assume a is our y_true and b is our y_pred\n",
    "a = arr_1\n",
    "b = arr_2\n",
    "# Calculate r2 (co-efficient of determination)\n",
    "r2 = r2_score(a, b)\n",
    "print(\"The co-efficient of determination is\", r2)"
   ]
  },
  {
   "cell_type": "markdown",
   "id": "fa199e44",
   "metadata": {},
   "source": [
    "**Calculate the chi-square test statistic for testing whether an incident is more likely to last longer than 60 minutes when CO detector is not present. Again only consider incidents that have information about whether a CO detector was present or not.**"
   ]
  },
  {
   "cell_type": "code",
   "execution_count": 744,
   "id": "0b8a8a05",
   "metadata": {},
   "outputs": [],
   "source": [
    "# Subsetting data frame to pick \"CO_DETECTOR_PRESENT_DESC\" and \"TOTAL_INCIDENT_DURATION\". \n",
    "# dropped null values in both columns\n",
    "fdny_CO_detector = fdny[[\"CO_DETECTOR_PRESENT_DESC\", \"TOTAL_INCIDENT_DURATION\"]].dropna()"
   ]
  },
  {
   "cell_type": "code",
   "execution_count": 747,
   "id": "5c3afa42",
   "metadata": {},
   "outputs": [
    {
     "data": {
      "text/plain": [
       "CO_DETECTOR_PRESENT_DESC  TOTAL_INCIDENT_DURATION\n",
       "Yes                       1007.0                     40\n",
       "                          995.0                      38\n",
       "                          950.0                      36\n",
       "                          902.0                      36\n",
       "                          1010.0                     36\n",
       "                                                     ..\n",
       "No                        5503.0                      1\n",
       "                          5506.0                      1\n",
       "                          5511.0                      1\n",
       "                          5513.0                      1\n",
       "Yes                       525550.0                    1\n",
       "Length: 7172, dtype: int64"
      ]
     },
     "execution_count": 747,
     "metadata": {},
     "output_type": "execute_result"
    }
   ],
   "source": [
    "# Checking no NA values in data \n",
    "fdny_CO_detector.value_counts()"
   ]
  },
  {
   "cell_type": "code",
   "execution_count": 748,
   "id": "834b7270",
   "metadata": {},
   "outputs": [
    {
     "data": {
      "text/html": [
       "<div>\n",
       "<style scoped>\n",
       "    .dataframe tbody tr th:only-of-type {\n",
       "        vertical-align: middle;\n",
       "    }\n",
       "\n",
       "    .dataframe tbody tr th {\n",
       "        vertical-align: top;\n",
       "    }\n",
       "\n",
       "    .dataframe thead th {\n",
       "        text-align: right;\n",
       "    }\n",
       "</style>\n",
       "<table border=\"1\" class=\"dataframe\">\n",
       "  <thead>\n",
       "    <tr style=\"text-align: right;\">\n",
       "      <th></th>\n",
       "      <th>CO_DETECTOR_PRESENT_DESC</th>\n",
       "      <th>TOTAL_INCIDENT_DURATION</th>\n",
       "    </tr>\n",
       "  </thead>\n",
       "  <tbody>\n",
       "    <tr>\n",
       "      <th>28</th>\n",
       "      <td>Yes</td>\n",
       "      <td>1300.0</td>\n",
       "    </tr>\n",
       "    <tr>\n",
       "      <th>154</th>\n",
       "      <td>Yes</td>\n",
       "      <td>398.0</td>\n",
       "    </tr>\n",
       "    <tr>\n",
       "      <th>195</th>\n",
       "      <td>No</td>\n",
       "      <td>1547.0</td>\n",
       "    </tr>\n",
       "    <tr>\n",
       "      <th>251</th>\n",
       "      <td>Yes</td>\n",
       "      <td>904.0</td>\n",
       "    </tr>\n",
       "    <tr>\n",
       "      <th>450</th>\n",
       "      <td>Yes</td>\n",
       "      <td>1871.0</td>\n",
       "    </tr>\n",
       "  </tbody>\n",
       "</table>\n",
       "</div>"
      ],
      "text/plain": [
       "    CO_DETECTOR_PRESENT_DESC  TOTAL_INCIDENT_DURATION\n",
       "28                       Yes                   1300.0\n",
       "154                      Yes                    398.0\n",
       "195                       No                   1547.0\n",
       "251                      Yes                    904.0\n",
       "450                      Yes                   1871.0"
      ]
     },
     "execution_count": 748,
     "metadata": {},
     "output_type": "execute_result"
    }
   ],
   "source": [
    "fdny_CO_detector.head()"
   ]
  },
  {
   "cell_type": "code",
   "execution_count": 750,
   "id": "a95d8230",
   "metadata": {},
   "outputs": [],
   "source": [
    "# Dividing the INCIDENT_DURATION_TIME by 60 to convert into minutes then created a new column for minutes\n",
    "fdny_CO_detector[\"INCIDENT_DURATION_min\"] = fdny_CO_detector[\"TOTAL_INCIDENT_DURATION\"]/60"
   ]
  },
  {
   "cell_type": "code",
   "execution_count": 755,
   "id": "b4c0c3f2",
   "metadata": {},
   "outputs": [
    {
     "data": {
      "text/plain": [
       "77.900000     3\n",
       "80.400000     3\n",
       "61.150000     3\n",
       "63.316667     3\n",
       "67.800000     3\n",
       "             ..\n",
       "64.416667     1\n",
       "75.183333     1\n",
       "152.666667    1\n",
       "63.183333     1\n",
       "75.116667     1\n",
       "Name: INCIDENT_DURATION_min, Length: 1601, dtype: int64"
      ]
     },
     "execution_count": 755,
     "metadata": {},
     "output_type": "execute_result"
    }
   ],
   "source": [
    "# Subsetting data frame to extract only data with above 60 minutes TOTAL INCIDENT DURATION \n",
    "#(CO detector is present and absent in this dataframe)\n",
    "df_above_60 = fdny_CO_detector[(fdny_CO_detector[\"INCIDENT_DURATION_min\"] > 60)]"
   ]
  },
  {
   "cell_type": "code",
   "execution_count": null,
   "id": "18364b0a",
   "metadata": {},
   "outputs": [],
   "source": [
    "# Importing relevant libraries for calculating chi-square statisitics\n",
    "import pandas as pd\n",
    "import numpy as np\n",
    "from scipy.stats import chi2_contingency\n",
    "import seaborn as sns\n",
    "import matplotlib.pyplot as plt\n",
    "%matplotlib inline"
   ]
  },
  {
   "cell_type": "code",
   "execution_count": 761,
   "id": "03eb45b7",
   "metadata": {},
   "outputs": [
    {
     "data": {
      "text/html": [
       "<div>\n",
       "<style scoped>\n",
       "    .dataframe tbody tr th:only-of-type {\n",
       "        vertical-align: middle;\n",
       "    }\n",
       "\n",
       "    .dataframe tbody tr th {\n",
       "        vertical-align: top;\n",
       "    }\n",
       "\n",
       "    .dataframe thead th {\n",
       "        text-align: right;\n",
       "    }\n",
       "</style>\n",
       "<table border=\"1\" class=\"dataframe\">\n",
       "  <thead>\n",
       "    <tr style=\"text-align: right;\">\n",
       "      <th>INCIDENT_DURATION_min</th>\n",
       "      <th>60.016667</th>\n",
       "      <th>60.033333</th>\n",
       "      <th>60.066667</th>\n",
       "      <th>60.083333</th>\n",
       "      <th>60.100000</th>\n",
       "      <th>60.116667</th>\n",
       "      <th>60.166667</th>\n",
       "      <th>60.183333</th>\n",
       "      <th>60.266667</th>\n",
       "      <th>60.283333</th>\n",
       "      <th>...</th>\n",
       "      <th>1102.850000</th>\n",
       "      <th>1158.633333</th>\n",
       "      <th>1414.866667</th>\n",
       "      <th>1456.300000</th>\n",
       "      <th>1810.666667</th>\n",
       "      <th>2075.350000</th>\n",
       "      <th>3953.616667</th>\n",
       "      <th>5350.783333</th>\n",
       "      <th>8759.166667</th>\n",
       "      <th>12766.416667</th>\n",
       "    </tr>\n",
       "    <tr>\n",
       "      <th>CO_DETECTOR_PRESENT_DESC</th>\n",
       "      <th></th>\n",
       "      <th></th>\n",
       "      <th></th>\n",
       "      <th></th>\n",
       "      <th></th>\n",
       "      <th></th>\n",
       "      <th></th>\n",
       "      <th></th>\n",
       "      <th></th>\n",
       "      <th></th>\n",
       "      <th></th>\n",
       "      <th></th>\n",
       "      <th></th>\n",
       "      <th></th>\n",
       "      <th></th>\n",
       "      <th></th>\n",
       "      <th></th>\n",
       "      <th></th>\n",
       "      <th></th>\n",
       "      <th></th>\n",
       "      <th></th>\n",
       "    </tr>\n",
       "  </thead>\n",
       "  <tbody>\n",
       "    <tr>\n",
       "      <th>No</th>\n",
       "      <td>1</td>\n",
       "      <td>1</td>\n",
       "      <td>1</td>\n",
       "      <td>2</td>\n",
       "      <td>1</td>\n",
       "      <td>0</td>\n",
       "      <td>0</td>\n",
       "      <td>0</td>\n",
       "      <td>1</td>\n",
       "      <td>0</td>\n",
       "      <td>...</td>\n",
       "      <td>1</td>\n",
       "      <td>0</td>\n",
       "      <td>1</td>\n",
       "      <td>1</td>\n",
       "      <td>1</td>\n",
       "      <td>0</td>\n",
       "      <td>1</td>\n",
       "      <td>0</td>\n",
       "      <td>0</td>\n",
       "      <td>1</td>\n",
       "    </tr>\n",
       "    <tr>\n",
       "      <th>Yes</th>\n",
       "      <td>1</td>\n",
       "      <td>1</td>\n",
       "      <td>0</td>\n",
       "      <td>0</td>\n",
       "      <td>2</td>\n",
       "      <td>1</td>\n",
       "      <td>2</td>\n",
       "      <td>1</td>\n",
       "      <td>0</td>\n",
       "      <td>1</td>\n",
       "      <td>...</td>\n",
       "      <td>0</td>\n",
       "      <td>1</td>\n",
       "      <td>0</td>\n",
       "      <td>0</td>\n",
       "      <td>0</td>\n",
       "      <td>1</td>\n",
       "      <td>0</td>\n",
       "      <td>1</td>\n",
       "      <td>1</td>\n",
       "      <td>0</td>\n",
       "    </tr>\n",
       "  </tbody>\n",
       "</table>\n",
       "<p>2 rows × 1601 columns</p>\n",
       "</div>"
      ],
      "text/plain": [
       "INCIDENT_DURATION_min     60.016667     60.033333     60.066667     \\\n",
       "CO_DETECTOR_PRESENT_DESC                                             \n",
       "No                                   1             1             1   \n",
       "Yes                                  1             1             0   \n",
       "\n",
       "INCIDENT_DURATION_min     60.083333     60.100000     60.116667     \\\n",
       "CO_DETECTOR_PRESENT_DESC                                             \n",
       "No                                   2             1             0   \n",
       "Yes                                  0             2             1   \n",
       "\n",
       "INCIDENT_DURATION_min     60.166667     60.183333     60.266667     \\\n",
       "CO_DETECTOR_PRESENT_DESC                                             \n",
       "No                                   0             0             1   \n",
       "Yes                                  2             1             0   \n",
       "\n",
       "INCIDENT_DURATION_min     60.283333     ...  1102.850000   1158.633333   \\\n",
       "CO_DETECTOR_PRESENT_DESC                ...                               \n",
       "No                                   0  ...             1             0   \n",
       "Yes                                  1  ...             0             1   \n",
       "\n",
       "INCIDENT_DURATION_min     1414.866667   1456.300000   1810.666667   \\\n",
       "CO_DETECTOR_PRESENT_DESC                                             \n",
       "No                                   1             1             1   \n",
       "Yes                                  0             0             0   \n",
       "\n",
       "INCIDENT_DURATION_min     2075.350000   3953.616667   5350.783333   \\\n",
       "CO_DETECTOR_PRESENT_DESC                                             \n",
       "No                                   0             1             0   \n",
       "Yes                                  1             0             1   \n",
       "\n",
       "INCIDENT_DURATION_min     8759.166667   12766.416667  \n",
       "CO_DETECTOR_PRESENT_DESC                              \n",
       "No                                   0             1  \n",
       "Yes                                  1             0  \n",
       "\n",
       "[2 rows x 1601 columns]"
      ]
     },
     "execution_count": 761,
     "metadata": {},
     "output_type": "execute_result"
    }
   ],
   "source": [
    "# creating cross tab \n",
    "contigency= pd.crosstab(fdny_CO_detector_60[\"CO_DETECTOR_PRESENT_DESC\"],fdny_CO_detector_60[\"INCIDENT_DURATION_min\"])\n",
    "contigency"
   ]
  },
  {
   "cell_type": "code",
   "execution_count": 762,
   "id": "33e95f6d",
   "metadata": {},
   "outputs": [
    {
     "data": {
      "text/html": [
       "<div>\n",
       "<style scoped>\n",
       "    .dataframe tbody tr th:only-of-type {\n",
       "        vertical-align: middle;\n",
       "    }\n",
       "\n",
       "    .dataframe tbody tr th {\n",
       "        vertical-align: top;\n",
       "    }\n",
       "\n",
       "    .dataframe thead th {\n",
       "        text-align: right;\n",
       "    }\n",
       "</style>\n",
       "<table border=\"1\" class=\"dataframe\">\n",
       "  <thead>\n",
       "    <tr style=\"text-align: right;\">\n",
       "      <th>INCIDENT_DURATION_min</th>\n",
       "      <th>60.016667</th>\n",
       "      <th>60.033333</th>\n",
       "      <th>60.066667</th>\n",
       "      <th>60.083333</th>\n",
       "      <th>60.100000</th>\n",
       "      <th>60.116667</th>\n",
       "      <th>60.166667</th>\n",
       "      <th>60.183333</th>\n",
       "      <th>60.266667</th>\n",
       "      <th>60.283333</th>\n",
       "      <th>...</th>\n",
       "      <th>1102.850000</th>\n",
       "      <th>1158.633333</th>\n",
       "      <th>1414.866667</th>\n",
       "      <th>1456.300000</th>\n",
       "      <th>1810.666667</th>\n",
       "      <th>2075.350000</th>\n",
       "      <th>3953.616667</th>\n",
       "      <th>5350.783333</th>\n",
       "      <th>8759.166667</th>\n",
       "      <th>12766.416667</th>\n",
       "    </tr>\n",
       "    <tr>\n",
       "      <th>CO_DETECTOR_PRESENT_DESC</th>\n",
       "      <th></th>\n",
       "      <th></th>\n",
       "      <th></th>\n",
       "      <th></th>\n",
       "      <th></th>\n",
       "      <th></th>\n",
       "      <th></th>\n",
       "      <th></th>\n",
       "      <th></th>\n",
       "      <th></th>\n",
       "      <th></th>\n",
       "      <th></th>\n",
       "      <th></th>\n",
       "      <th></th>\n",
       "      <th></th>\n",
       "      <th></th>\n",
       "      <th></th>\n",
       "      <th></th>\n",
       "      <th></th>\n",
       "      <th></th>\n",
       "      <th></th>\n",
       "    </tr>\n",
       "  </thead>\n",
       "  <tbody>\n",
       "    <tr>\n",
       "      <th>No</th>\n",
       "      <td>0.001063</td>\n",
       "      <td>0.001063</td>\n",
       "      <td>0.001063</td>\n",
       "      <td>0.002125</td>\n",
       "      <td>0.001063</td>\n",
       "      <td>0.000000</td>\n",
       "      <td>0.000000</td>\n",
       "      <td>0.000000</td>\n",
       "      <td>0.001063</td>\n",
       "      <td>0.000000</td>\n",
       "      <td>...</td>\n",
       "      <td>0.001063</td>\n",
       "      <td>0.000000</td>\n",
       "      <td>0.001063</td>\n",
       "      <td>0.001063</td>\n",
       "      <td>0.001063</td>\n",
       "      <td>0.000000</td>\n",
       "      <td>0.001063</td>\n",
       "      <td>0.000000</td>\n",
       "      <td>0.000000</td>\n",
       "      <td>0.001063</td>\n",
       "    </tr>\n",
       "    <tr>\n",
       "      <th>Yes</th>\n",
       "      <td>0.001079</td>\n",
       "      <td>0.001079</td>\n",
       "      <td>0.000000</td>\n",
       "      <td>0.000000</td>\n",
       "      <td>0.002157</td>\n",
       "      <td>0.001079</td>\n",
       "      <td>0.002157</td>\n",
       "      <td>0.001079</td>\n",
       "      <td>0.000000</td>\n",
       "      <td>0.001079</td>\n",
       "      <td>...</td>\n",
       "      <td>0.000000</td>\n",
       "      <td>0.001079</td>\n",
       "      <td>0.000000</td>\n",
       "      <td>0.000000</td>\n",
       "      <td>0.000000</td>\n",
       "      <td>0.001079</td>\n",
       "      <td>0.000000</td>\n",
       "      <td>0.001079</td>\n",
       "      <td>0.001079</td>\n",
       "      <td>0.000000</td>\n",
       "    </tr>\n",
       "  </tbody>\n",
       "</table>\n",
       "<p>2 rows × 1601 columns</p>\n",
       "</div>"
      ],
      "text/plain": [
       "INCIDENT_DURATION_min     60.016667     60.033333     60.066667     \\\n",
       "CO_DETECTOR_PRESENT_DESC                                             \n",
       "No                            0.001063      0.001063      0.001063   \n",
       "Yes                           0.001079      0.001079      0.000000   \n",
       "\n",
       "INCIDENT_DURATION_min     60.083333     60.100000     60.116667     \\\n",
       "CO_DETECTOR_PRESENT_DESC                                             \n",
       "No                            0.002125      0.001063      0.000000   \n",
       "Yes                           0.000000      0.002157      0.001079   \n",
       "\n",
       "INCIDENT_DURATION_min     60.166667     60.183333     60.266667     \\\n",
       "CO_DETECTOR_PRESENT_DESC                                             \n",
       "No                            0.000000      0.000000      0.001063   \n",
       "Yes                           0.002157      0.001079      0.000000   \n",
       "\n",
       "INCIDENT_DURATION_min     60.283333     ...  1102.850000   1158.633333   \\\n",
       "CO_DETECTOR_PRESENT_DESC                ...                               \n",
       "No                            0.000000  ...      0.001063      0.000000   \n",
       "Yes                           0.001079  ...      0.000000      0.001079   \n",
       "\n",
       "INCIDENT_DURATION_min     1414.866667   1456.300000   1810.666667   \\\n",
       "CO_DETECTOR_PRESENT_DESC                                             \n",
       "No                            0.001063      0.001063      0.001063   \n",
       "Yes                           0.000000      0.000000      0.000000   \n",
       "\n",
       "INCIDENT_DURATION_min     2075.350000   3953.616667   5350.783333   \\\n",
       "CO_DETECTOR_PRESENT_DESC                                             \n",
       "No                            0.000000      0.001063      0.000000   \n",
       "Yes                           0.001079      0.000000      0.001079   \n",
       "\n",
       "INCIDENT_DURATION_min     8759.166667   12766.416667  \n",
       "CO_DETECTOR_PRESENT_DESC                              \n",
       "No                            0.000000      0.001063  \n",
       "Yes                           0.001079      0.000000  \n",
       "\n",
       "[2 rows x 1601 columns]"
      ]
     },
     "execution_count": 762,
     "metadata": {},
     "output_type": "execute_result"
    }
   ],
   "source": [
    "# Showing contigenecy percentage statistics\n",
    "contigency_pct= pd.crosstab(fdny_CO_detector_60[\"CO_DETECTOR_PRESENT_DESC\"],fdny_CO_detector_60[\"INCIDENT_DURATION_min\"],\n",
    "                           normalize = \"index\")\n",
    "contigency_pct"
   ]
  },
  {
   "cell_type": "code",
   "execution_count": 740,
   "id": "e5b378b8",
   "metadata": {},
   "outputs": [
    {
     "data": {
      "image/png": "[encoded data removed]",
      "text/plain": [
       "<Figure size 864x576 with 2 Axes>"
      ]
     },
     "metadata": {
      "needs_background": "light"
     },
     "output_type": "display_data"
    }
   ],
   "source": [
    "# Plotting contigency table on a heatmap \n",
    "plt.figure(figsize=(12,8)) \n",
    "sns.heatmap(contigency, annot=True, cmap=\"YlGnBu\")\n",
    "plt.title(\"Contigency heatmap indicating CO present or not\");"
   ]
  },
  {
   "cell_type": "code",
   "execution_count": 765,
   "id": "0603a3de",
   "metadata": {},
   "outputs": [
    {
     "name": "stdout",
     "output_type": "stream",
     "text": [
      "The p-value is  0.3890778386842555\n",
      "The chi-square test statistic is  1615.3191403179535\n",
      "The degree of freedom is 1600\n"
     ]
    }
   ],
   "source": [
    "# Chi-square test of independence. \n",
    "c, p, dof, expected = chi2_contingency(contigency) \n",
    "# Print the p-value, chi-square statistic and dof\n",
    "print(\"The p-value is \", p)\n",
    "print(\"The chi-square test statistic is \", c)\n",
    "print(\"The degree of freedom is\", dof)"
   ]
  }
 ],
 "metadata": {
  "kernelspec": {
   "display_name": "Python 3",
   "language": "python",
   "name": "python3"
  },
  "language_info": {
   "codemirror_mode": {
    "name": "ipython",
    "version": 3
   },
   "file_extension": ".py",
   "mimetype": "text/x-python",
   "name": "python",
   "nbconvert_exporter": "python",
   "pygments_lexer": "ipython3",
   "version": "3.9.5"
  }
 },
 "nbformat": 4,
 "nbformat_minor": 5
}
